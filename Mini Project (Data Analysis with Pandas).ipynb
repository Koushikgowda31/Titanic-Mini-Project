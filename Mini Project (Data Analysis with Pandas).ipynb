{
 "cells": [
  {
   "cell_type": "code",
   "execution_count": 51,
   "id": "5b35221e-4d7c-4b05-b7b7-d6a841ab5b4d",
   "metadata": {},
   "outputs": [],
   "source": [
    "# Import the Library\n",
    "import pandas as pd\n",
    "import numpy as np\n",
    "import matplotlib.pyplot as plt\n",
    "import seaborn as sns"
   ]
  },
  {
   "cell_type": "code",
   "execution_count": 63,
   "id": "4d05526b-35e5-4dad-9a7b-eaae4dad1937",
   "metadata": {},
   "outputs": [],
   "source": [
    "# Load the dataset\n",
    "\n",
    "df = pd.read_csv(\"titanic passenger list.csv\")"
   ]
  },
  {
   "cell_type": "code",
   "execution_count": 65,
   "id": "219ad8bf-e033-483b-84ce-a95574ccf4e9",
   "metadata": {},
   "outputs": [
    {
     "name": "stdout",
     "output_type": "stream",
     "text": [
      "            pclass     survived          age        sibsp        parch  \\\n",
      "count  1309.000000  1309.000000  1046.000000  1309.000000  1309.000000   \n",
      "mean      2.294882     0.381971    29.881138     0.498854     0.385027   \n",
      "std       0.837836     0.486055    14.413493     1.041658     0.865560   \n",
      "min       1.000000     0.000000     0.170000     0.000000     0.000000   \n",
      "25%       2.000000     0.000000    21.000000     0.000000     0.000000   \n",
      "50%       3.000000     0.000000    28.000000     0.000000     0.000000   \n",
      "75%       3.000000     1.000000    39.000000     1.000000     0.000000   \n",
      "max       3.000000     1.000000    80.000000     8.000000     9.000000   \n",
      "\n",
      "              fare        body  \n",
      "count  1308.000000  121.000000  \n",
      "mean     33.295479  160.809917  \n",
      "std      51.758668   97.696922  \n",
      "min       0.000000    1.000000  \n",
      "25%       7.895800   72.000000  \n",
      "50%      14.454200  155.000000  \n",
      "75%      31.275000  256.000000  \n",
      "max     512.329200  328.000000  \n"
     ]
    }
   ],
   "source": [
    "# Explore the dataset (describe(),Info(),head(),tail())\n",
    "\n",
    "print(df.describe())"
   ]
  },
  {
   "cell_type": "code",
   "execution_count": 43,
   "id": "014a27b6-e55b-4dbd-8934-d6cd88c9e934",
   "metadata": {},
   "outputs": [
    {
     "name": "stdout",
     "output_type": "stream",
     "text": [
      "<class 'pandas.core.frame.DataFrame'>\n",
      "RangeIndex: 1309 entries, 0 to 1308\n",
      "Data columns (total 14 columns):\n",
      " #   Column     Non-Null Count  Dtype  \n",
      "---  ------     --------------  -----  \n",
      " 0   pclass     1309 non-null   int64  \n",
      " 1   survived   1309 non-null   int64  \n",
      " 2   name       1309 non-null   object \n",
      " 3   sex        1309 non-null   object \n",
      " 4   age        1046 non-null   float64\n",
      " 5   sibsp      1309 non-null   int64  \n",
      " 6   parch      1309 non-null   int64  \n",
      " 7   ticket     1309 non-null   object \n",
      " 8   fare       1308 non-null   float64\n",
      " 9   cabin      295 non-null    object \n",
      " 10  embarked   1307 non-null   object \n",
      " 11  boat       486 non-null    object \n",
      " 12  body       121 non-null    float64\n",
      " 13  home.dest  745 non-null    object \n",
      "dtypes: float64(3), int64(4), object(7)\n",
      "memory usage: 143.3+ KB\n",
      "None\n"
     ]
    }
   ],
   "source": [
    "print(df.info())"
   ]
  },
  {
   "cell_type": "code",
   "execution_count": 45,
   "id": "eaa994c8-d8ef-48e8-b356-1048591fdb5c",
   "metadata": {},
   "outputs": [
    {
     "name": "stdout",
     "output_type": "stream",
     "text": [
      "   pclass  survived                                             name     sex  \\\n",
      "0       1         1                    Allen, Miss. Elisabeth Walton  female   \n",
      "1       1         1                   Allison, Master. Hudson Trevor    male   \n",
      "2       1         0                     Allison, Miss. Helen Loraine  female   \n",
      "3       1         0             Allison, Mr. Hudson Joshua Creighton    male   \n",
      "4       1         0  Allison, Mrs. Hudson J C (Bessie Waldo Daniels)  female   \n",
      "5       1         1                              Anderson, Mr. Harry    male   \n",
      "6       1         1                Andrews, Miss. Kornelia Theodosia  female   \n",
      "7       1         0                           Andrews, Mr. Thomas Jr    male   \n",
      "8       1         1    Appleton, Mrs. Edward Dale (Charlotte Lamson)  female   \n",
      "9       1         0                          Artagaveytia, Mr. Ramon    male   \n",
      "\n",
      "     age  sibsp  parch    ticket      fare    cabin embarked boat   body  \\\n",
      "0  29.00      0      0     24160  211.3375       B5        S    2    NaN   \n",
      "1   0.92      1      2    113781  151.5500  C22 C26        S   11    NaN   \n",
      "2   2.00      1      2    113781  151.5500  C22 C26        S  NaN    NaN   \n",
      "3  30.00      1      2    113781  151.5500  C22 C26        S  NaN  135.0   \n",
      "4  25.00      1      2    113781  151.5500  C22 C26        S  NaN    NaN   \n",
      "5  48.00      0      0     19952   26.5500      E12        S    3    NaN   \n",
      "6  63.00      1      0     13502   77.9583       D7        S   10    NaN   \n",
      "7  39.00      0      0    112050    0.0000      A36        S  NaN    NaN   \n",
      "8  53.00      2      0     11769   51.4792     C101        S    D    NaN   \n",
      "9  71.00      0      0  PC 17609   49.5042      NaN        C  NaN   22.0   \n",
      "\n",
      "                         home.dest  \n",
      "0                     St Louis, MO  \n",
      "1  Montreal, PQ / Chesterville, ON  \n",
      "2  Montreal, PQ / Chesterville, ON  \n",
      "3  Montreal, PQ / Chesterville, ON  \n",
      "4  Montreal, PQ / Chesterville, ON  \n",
      "5                     New York, NY  \n",
      "6                       Hudson, NY  \n",
      "7                      Belfast, NI  \n",
      "8              Bayside, Queens, NY  \n",
      "9              Montevideo, Uruguay  \n"
     ]
    }
   ],
   "source": [
    "print(df.head(10))"
   ]
  },
  {
   "cell_type": "code",
   "execution_count": 57,
   "id": "d80275bd-636d-4854-82b6-46be15a43b5c",
   "metadata": {},
   "outputs": [
    {
     "name": "stdout",
     "output_type": "stream",
     "text": [
      "      pclass  survived                                     name     sex   age  \\\n",
      "1299       3         0                      Yasbeck, Mr. Antoni    male  27.0   \n",
      "1300       3         1  Yasbeck, Mrs. Antoni (Selini Alexander)  female  15.0   \n",
      "1301       3         0                     Youseff, Mr. Gerious    male  45.5   \n",
      "1302       3         0                        Yousif, Mr. Wazli    male  28.0   \n",
      "1303       3         0                    Yousseff, Mr. Gerious    male  28.0   \n",
      "1304       3         0                     Zabour, Miss. Hileni  female  14.5   \n",
      "1305       3         0                    Zabour, Miss. Thamine  female  28.0   \n",
      "1306       3         0                Zakarian, Mr. Mapriededer    male  26.5   \n",
      "1307       3         0                      Zakarian, Mr. Ortin    male  27.0   \n",
      "1308       3         0                       Zimmerman, Mr. Leo    male  29.0   \n",
      "\n",
      "      sibsp  parch  ticket     fare cabin embarked boat   body homedest  \n",
      "1299      1      0    2659  14.4542   NaN        C    C    NaN      NaN  \n",
      "1300      1      0    2659  14.4542   NaN        C  NaN    NaN      NaN  \n",
      "1301      0      0    2628   7.2250   NaN        C  NaN  312.0      NaN  \n",
      "1302      0      0    2647   7.2250   NaN        C  NaN    NaN      NaN  \n",
      "1303      0      0    2627  14.4583   NaN        C  NaN    NaN      NaN  \n",
      "1304      1      0    2665  14.4542   NaN        C  NaN  328.0      NaN  \n",
      "1305      1      0    2665  14.4542   NaN        C  NaN    NaN      NaN  \n",
      "1306      0      0    2656   7.2250   NaN        C  NaN  304.0      NaN  \n",
      "1307      0      0    2670   7.2250   NaN        C  NaN    NaN      NaN  \n",
      "1308      0      0  315082   7.8750   NaN        S  NaN    NaN      NaN  \n"
     ]
    }
   ],
   "source": [
    "print(df.tail(10))"
   ]
  },
  {
   "cell_type": "code",
   "execution_count": 55,
   "id": "afdb9b7f-46e0-41c9-852f-a1b89a2130b8",
   "metadata": {},
   "outputs": [],
   "source": [
    "# Clean column names\n",
    "\n",
    "df.columns = df.columns.str.lower().str.replace(\".\", \"\").str.replace(\" \", \"_\")"
   ]
  },
  {
   "cell_type": "code",
   "execution_count": 71,
   "id": "f4cece0d-8833-4b7b-97eb-4fff42b6f395",
   "metadata": {},
   "outputs": [],
   "source": [
    "# Fill missing age and fare with median values\n",
    "\n",
    "df['age'] = df['age'].fillna(df['age'].median())\n",
    "df['fare'] = df['fare'].fillna(df['fare'].median())"
   ]
  },
  {
   "cell_type": "code",
   "execution_count": 73,
   "id": "b3d33ee7-b4d1-4552-a4b7-f98d182f3711",
   "metadata": {},
   "outputs": [],
   "source": [
    "\n",
    "# Fill missing embarked with most frequent value\n",
    "df['embarked'] = df['embarked'].fillna(df['embarked'].mode()[0])"
   ]
  },
  {
   "cell_type": "code",
   "execution_count": 75,
   "id": "bbaa0997-a09f-40e0-b73d-28c5cb8421d6",
   "metadata": {},
   "outputs": [],
   "source": [
    "# Drop columns with excessive missing data\n",
    "\n",
    "df.drop(columns=['cabin', 'boat', 'body', 'homedest'], inplace=True, errors='ignore')"
   ]
  },
  {
   "cell_type": "code",
   "execution_count": 77,
   "id": "ba7ebfbe-fa5f-4901-ace7-8a3de96786ab",
   "metadata": {},
   "outputs": [
    {
     "data": {
      "text/plain": [
       "<Figure size 1600x1200 with 0 Axes>"
      ]
     },
     "execution_count": 77,
     "metadata": {},
     "output_type": "execute_result"
    },
    {
     "data": {
      "text/plain": [
       "<Figure size 1600x1200 with 0 Axes>"
      ]
     },
     "metadata": {},
     "output_type": "display_data"
    }
   ],
   "source": [
    "# Visualizations\n",
    "\n",
    "sns.set(style=\"whitegrid\")\n",
    "plt.figure(figsize=(16, 12))"
   ]
  },
  {
   "cell_type": "code",
   "execution_count": 81,
   "id": "49c552cf-b834-4dad-acc1-75e43531b4f4",
   "metadata": {},
   "outputs": [
    {
     "data": {
      "text/plain": [
       "([<matplotlib.axis.XTick at 0x2aad9e50590>,\n",
       "  <matplotlib.axis.XTick at 0x2aad9e53cb0>],\n",
       " [Text(0, 0, 'Did Not Survive'), Text(1, 0, 'Survived')])"
      ]
     },
     "execution_count": 81,
     "metadata": {},
     "output_type": "execute_result"
    },
    {
     "data": {
      "image/png": "[encoded data removed]",
      "text/plain": [
       "<Figure size 640x480 with 1 Axes>"
      ]
     },
     "metadata": {},
     "output_type": "display_data"
    }
   ],
   "source": [
    "# 1. Survival Count\n",
    "\n",
    "plt.subplot(2, 2, 1)\n",
    "sns.countplot(data=df, x='survived', hue='survived', palette='pastel', legend=False)\n",
    "plt.title(\"Survival Count\")\n",
    "plt.xticks([0, 1], ['Did Not Survive', 'Survived'])"
   ]
  },
  {
   "cell_type": "code",
   "execution_count": 97,
   "id": "9f01b982-199d-4560-8b08-22de5a7a9aac",
   "metadata": {},
   "outputs": [
    {
     "name": "stdout",
     "output_type": "stream",
     "text": [
      "\n",
      "1.Survival Counts:\n",
      "survived\n",
      "Did Not Survive    809\n",
      "Survived           500\n",
      "Name: count, dtype: int64\n"
     ]
    }
   ],
   "source": [
    "print(\"\\n1.Survival Counts:\")\n",
    "print(df['survived'].value_counts().rename(index={0: 'Did Not Survive', 1: 'Survived'}))"
   ]
  },
  {
   "cell_type": "code",
   "execution_count": 83,
   "id": "20daa017-f869-4c90-8f13-ce40a1c2b040",
   "metadata": {},
   "outputs": [
    {
     "data": {
      "text/plain": [
       "<matplotlib.legend.Legend at 0x2aadae304a0>"
      ]
     },
     "execution_count": 83,
     "metadata": {},
     "output_type": "execute_result"
    },
    {
     "data": {
      "image/png": "[encoded data removed]",
      "text/plain": [
       "<Figure size 640x480 with 1 Axes>"
      ]
     },
     "metadata": {},
     "output_type": "display_data"
    }
   ],
   "source": [
    "# 2. Survival by Gender\n",
    "\n",
    "plt.subplot(2, 2, 2)\n",
    "sns.countplot(data=df, x='sex', hue='survived', palette='Set2')\n",
    "plt.title(\"Survival by Gender\")\n",
    "plt.legend(['Did Not Survive', 'Survived'])"
   ]
  },
  {
   "cell_type": "code",
   "execution_count": 99,
   "id": "75d0c96a-d3c6-401d-924a-567ff578e411",
   "metadata": {},
   "outputs": [
    {
     "name": "stdout",
     "output_type": "stream",
     "text": [
      "\n",
      "2.Survival by Gender:\n",
      "Survived  Did Not Survive  Survived\n",
      "Gender                             \n",
      "female                127       339\n",
      "male                  682       161\n"
     ]
    }
   ],
   "source": [
    "print(\"\\n2.Survival by Gender:\")\n",
    "print(pd.crosstab(df['sex'], df['survived'], rownames=['Gender'], colnames=['Survived'])\n",
    "      .rename(columns={0: 'Did Not Survive', 1: 'Survived'}))"
   ]
  },
  {
   "cell_type": "code",
   "execution_count": 85,
   "id": "b86cb07b-32cf-485e-a961-da81466c4fba",
   "metadata": {},
   "outputs": [
    {
     "data": {
      "text/plain": [
       "<matplotlib.legend.Legend at 0x2aadae351c0>"
      ]
     },
     "execution_count": 85,
     "metadata": {},
     "output_type": "execute_result"
    },
    {
     "data": {
      "image/png": "[encoded data removed]",
      "text/plain": [
       "<Figure size 640x480 with 1 Axes>"
      ]
     },
     "metadata": {},
     "output_type": "display_data"
    }
   ],
   "source": [
    "# 3. Survival by Passenger Class\n",
    "\n",
    "plt.subplot(2, 2, 3)\n",
    "sns.countplot(data=df, x='pclass', hue='survived', palette='Set3')\n",
    "plt.title(\"Survival by Passenger Class\")\n",
    "plt.legend(['Did Not Survive', 'Survived'])"
   ]
  },
  {
   "cell_type": "code",
   "execution_count": 101,
   "id": "d99d76c4-8abb-469a-98e0-c5135ecd1a1a",
   "metadata": {},
   "outputs": [
    {
     "name": "stdout",
     "output_type": "stream",
     "text": [
      "\n",
      "3.Survival by Passenger Class:\n",
      "Survived         Did Not Survive  Survived\n",
      "Passenger Class                           \n",
      "1                            123       200\n",
      "2                            158       119\n",
      "3                            528       181\n"
     ]
    }
   ],
   "source": [
    "print(\"\\n3.Survival by Passenger Class:\")\n",
    "print(pd.crosstab(df['pclass'], df['survived'], rownames=['Passenger Class'], colnames=['Survived'])\n",
    "      .rename(columns={0: 'Did Not Survive', 1: 'Survived'}))"
   ]
  },
  {
   "cell_type": "code",
   "execution_count": 87,
   "id": "8294c03b-9662-4ed7-bc89-5ec32c666c64",
   "metadata": {},
   "outputs": [
    {
     "data": {
      "text/plain": [
       "Text(0.5, 1.0, 'Age Distribution by Survival')"
      ]
     },
     "execution_count": 87,
     "metadata": {},
     "output_type": "execute_result"
    },
    {
     "data": {
      "image/png": "[encoded data removed]",
      "text/plain": [
       "<Figure size 640x480 with 1 Axes>"
      ]
     },
     "metadata": {},
     "output_type": "display_data"
    }
   ],
   "source": [
    "# 4. Age Distribution by Survival\n",
    "\n",
    "plt.subplot(2, 2, 4)\n",
    "sns.histplot(data=df, x='age', hue='survived', kde=True, element=\"step\", palette='coolwarm')\n",
    "plt.title(\"Age Distribution by Survival\")"
   ]
  },
  {
   "cell_type": "code",
   "execution_count": 103,
   "id": "a3da93ca-7f81-4653-8447-702c00ae7814",
   "metadata": {},
   "outputs": [
    {
     "name": "stdout",
     "output_type": "stream",
     "text": [
      "\n",
      "4.Age Statistics by Survival:\n",
      "                 count       mean        std   min    25%   50%   75%   max\n",
      "survived                                                                   \n",
      "Did Not Survive  809.0  29.947565  12.223851  0.33  23.00  28.0  35.0  74.0\n",
      "Survived         500.0  28.784180  13.920007  0.17  21.75  28.0  36.0  80.0\n"
     ]
    }
   ],
   "source": [
    "print(\"\\n4.Age Statistics by Survival:\")\n",
    "print(df.groupby('survived')['age'].describe().rename(index={0: 'Did Not Survive', 1: 'Survived'}))"
   ]
  }
 ],
 "metadata": {
  "kernelspec": {
   "display_name": "Python [conda env:base] *",
   "language": "python",
   "name": "conda-base-py"
  },
  "language_info": {
   "codemirror_mode": {
    "name": "ipython",
    "version": 3
   },
   "file_extension": ".py",
   "mimetype": "text/x-python",
   "name": "python",
   "nbconvert_exporter": "python",
   "pygments_lexer": "ipython3",
   "version": "3.12.7"
  }
 },
 "nbformat": 4,
 "nbformat_minor": 5
}
